{
 "cells": [
  {
   "cell_type": "markdown",
   "id": "b954da73-31a2-4bd2-b129-6da01ca6baea",
   "metadata": {},
   "source": [
    "# Regresión Logística (Logistic Regression)\n",
    "Katlyn Mackness <br>\n",
    "17/12/2024 - Updated 26/02/2025"
   ]
  },
  {
   "cell_type": "markdown",
   "id": "9b8ffc4d-5c4b-42b6-938e-18b17b8b3dd5",
   "metadata": {},
   "source": [
    "## Objetivo\n",
    "Efectúes un análisis de clasificación mediante Regresión Logística que permita desarrollar un modelo predictivo basado en distintas métricas aplicadas a una base de datos grande."
   ]
  },
  {
   "cell_type": "markdown",
   "id": "228ca431-5586-4517-bfc3-1bafd545fa96",
   "metadata": {},
   "source": [
    "## Problema\n",
    "Imagina que eres un investigador médico que recopila datos para un estudio. Has recopilado datos sobre un conjunto de pacientes, todos ellos con la misma enfermedad. \n",
    "\n",
    "Durante su tratamiento, cada paciente ha respondido a uno de los 5 medicamentos:\n",
    "* drugA\n",
    "* drugB\n",
    "* drugC\n",
    "* drugX\n",
    "* drugY\n",
    "\n",
    "Parte de tu trabajo consiste en construir un modelo para averiguar qué medicamento podría ser apropiado para un futuro paciente con la misma enfermedad. Estudiar el fármaco al que respondió cada paciente. De manera particular para este problema, se requiere saber si el medicamento a aplicar es de origen nacional o extranjero."
   ]
  },
  {
   "cell_type": "code",
   "execution_count": 1,
   "id": "0ea336e0-6ef0-4da8-bc26-262f03d51c11",
   "metadata": {},
   "outputs": [],
   "source": [
    "# Importar bibliotécas\n",
    "import pandas as pd\n",
    "import numpy as np\n",
    "import matplotlib.pyplot as plt\n",
    "\n",
    "from sklearn.model_selection import train_test_split\n",
    "from sklearn.linear_model import LogisticRegression\n",
    "\n",
    "from sklearn import metrics, preprocessing\n",
    "from sklearn.metrics import classification_report\n",
    "\n",
    "import warnings\n",
    "warnings.filterwarnings(\"ignore\")"
   ]
  },
  {
   "cell_type": "code",
   "execution_count": 2,
   "id": "85807aa4-f731-4e8e-b5a3-05a734fce2c1",
   "metadata": {},
   "outputs": [
    {
     "data": {
      "text/html": [
       "<div>\n",
       "<style scoped>\n",
       "    .dataframe tbody tr th:only-of-type {\n",
       "        vertical-align: middle;\n",
       "    }\n",
       "\n",
       "    .dataframe tbody tr th {\n",
       "        vertical-align: top;\n",
       "    }\n",
       "\n",
       "    .dataframe thead th {\n",
       "        text-align: right;\n",
       "    }\n",
       "</style>\n",
       "<table border=\"1\" class=\"dataframe\">\n",
       "  <thead>\n",
       "    <tr style=\"text-align: right;\">\n",
       "      <th></th>\n",
       "      <th>Age</th>\n",
       "      <th>Sex</th>\n",
       "      <th>BP</th>\n",
       "      <th>Cholesterol</th>\n",
       "      <th>Na_to_K</th>\n",
       "      <th>Drug</th>\n",
       "      <th>Origen</th>\n",
       "    </tr>\n",
       "  </thead>\n",
       "  <tbody>\n",
       "    <tr>\n",
       "      <th>0</th>\n",
       "      <td>23</td>\n",
       "      <td>F</td>\n",
       "      <td>HIGH</td>\n",
       "      <td>HIGH</td>\n",
       "      <td>25.355</td>\n",
       "      <td>drugY</td>\n",
       "      <td>1</td>\n",
       "    </tr>\n",
       "    <tr>\n",
       "      <th>1</th>\n",
       "      <td>47</td>\n",
       "      <td>M</td>\n",
       "      <td>LOW</td>\n",
       "      <td>HIGH</td>\n",
       "      <td>13.093</td>\n",
       "      <td>drugC</td>\n",
       "      <td>0</td>\n",
       "    </tr>\n",
       "    <tr>\n",
       "      <th>2</th>\n",
       "      <td>47</td>\n",
       "      <td>M</td>\n",
       "      <td>LOW</td>\n",
       "      <td>HIGH</td>\n",
       "      <td>10.114</td>\n",
       "      <td>drugC</td>\n",
       "      <td>0</td>\n",
       "    </tr>\n",
       "    <tr>\n",
       "      <th>3</th>\n",
       "      <td>28</td>\n",
       "      <td>F</td>\n",
       "      <td>NORMAL</td>\n",
       "      <td>HIGH</td>\n",
       "      <td>7.798</td>\n",
       "      <td>drugX</td>\n",
       "      <td>1</td>\n",
       "    </tr>\n",
       "    <tr>\n",
       "      <th>4</th>\n",
       "      <td>61</td>\n",
       "      <td>F</td>\n",
       "      <td>LOW</td>\n",
       "      <td>HIGH</td>\n",
       "      <td>18.043</td>\n",
       "      <td>drugY</td>\n",
       "      <td>1</td>\n",
       "    </tr>\n",
       "  </tbody>\n",
       "</table>\n",
       "</div>"
      ],
      "text/plain": [
       "   Age Sex      BP Cholesterol  Na_to_K   Drug  Origen\n",
       "0   23   F    HIGH        HIGH   25.355  drugY       1\n",
       "1   47   M     LOW        HIGH   13.093  drugC       0\n",
       "2   47   M     LOW        HIGH   10.114  drugC       0\n",
       "3   28   F  NORMAL        HIGH    7.798  drugX       1\n",
       "4   61   F     LOW        HIGH   18.043  drugY       1"
      ]
     },
     "execution_count": 2,
     "metadata": {},
     "output_type": "execute_result"
    }
   ],
   "source": [
    "# Cargue la base de datos “drugs.csv”\n",
    "drugs = pd.read_csv(\"Data/drugs.csv\")\n",
    "\n",
    "# Etiqueta medicamentos con su origen \n",
    "# Nacional = 0\n",
    "# Extranjero = 1\n",
    "drug_map = {\n",
    "    'drugA': 0, \n",
    "    'drugB': 0, \n",
    "    'drugC': 0, \n",
    "    'drugX': 1, \n",
    "    'drugY': 1\n",
    "}\n",
    "\n",
    "drugs['Origen'] = drugs['Drug'].map(drug_map)\n",
    "drugs.head()"
   ]
  },
  {
   "cell_type": "code",
   "execution_count": 3,
   "id": "ea1699b0-78c0-4d7f-9f8a-3faca5d2fbe5",
   "metadata": {},
   "outputs": [],
   "source": [
    "feature_cols = [\"Age\", \"Sex\", \"BP\", \"Cholesterol\", \"Na_to_K\"]\n",
    "X = drugs[feature_cols].values\n",
    "y = drugs.Origen"
   ]
  },
  {
   "cell_type": "code",
   "execution_count": 4,
   "id": "5ecdbb18-c692-4075-9d88-c480ad381dee",
   "metadata": {},
   "outputs": [
    {
     "data": {
      "text/plain": [
       "array([[23, 0, 0, 0, 25.355],\n",
       "       [47, 1, 1, 0, 13.093],\n",
       "       [47, 1, 1, 0, 10.114],\n",
       "       [28, 0, 2, 0, 7.798],\n",
       "       [61, 0, 1, 0, 18.043]], dtype=object)"
      ]
     },
     "execution_count": 4,
     "metadata": {},
     "output_type": "execute_result"
    }
   ],
   "source": [
    "# Convertir las variables predictoras cualitativas a una escala numérica \n",
    "Cod_BP = preprocessing.LabelEncoder()\n",
    "Cod_BP.fit(['HIGH', 'NORMAL', 'LOW'])\n",
    "X[:,2] = Cod_BP.transform(X[:,2])\n",
    "\n",
    "Cod_Cholesterol = preprocessing.LabelEncoder()\n",
    "Cod_Cholesterol.fit(['HIGH', 'NORMAL'])\n",
    "X[:,3] = Cod_Cholesterol.transform(X[:,3])\n",
    "\n",
    "Cod_Sex = preprocessing.LabelEncoder()\n",
    "Cod_Sex.fit(['F', 'M'])\n",
    "X[:,1] = Cod_Sex.transform(X[:,1])\n",
    "\n",
    "X[0:5]"
   ]
  },
  {
   "cell_type": "markdown",
   "id": "c501c94d-3271-4395-ab61-a9a96a641386",
   "metadata": {},
   "source": [
    "## Metodos de optimizacion\n",
    "Use los diversos métodos de optimización para una Regresión Logística para encontrar un algoritmo óptimo de clasificación. "
   ]
  },
  {
   "cell_type": "code",
   "execution_count": 5,
   "id": "32137598-a9eb-42f2-b15c-f2f1d7f72192",
   "metadata": {},
   "outputs": [],
   "source": [
    "# Crear grupos de entrenamiento y prueba\n",
    "X_train, X_test, y_train, y_test = train_test_split(X, y, test_size=0.2, random_state=1)"
   ]
  },
  {
   "cell_type": "code",
   "execution_count": 16,
   "id": "f1e36c2e-3833-4e7f-b3b9-2bb86fbd6734",
   "metadata": {},
   "outputs": [],
   "source": [
    "def model_optimizer(solver):\n",
    "    \"\"\"Solver function that prints the model coefficients, score and classification report\"\"\"\n",
    "    model = LogisticRegression(solver=solver)\n",
    "    clf = model.fit(X_train, y_train)\n",
    "\n",
    "    # Prediccion de etiquetas de clase sobre datos de prueba\n",
    "    y_pred = model.predict(X_test)\n",
    "    \n",
    "    # Impresion de coeficientes de la regresion de puntajes\n",
    "    print(\"Solver = \", solver)\n",
    "    print(\"\\nIntercepto (Beta 0)\", clf.intercept_)\n",
    "    print(\"\\nPesos (Betas)\", clf.coef_)\n",
    "    print(\"--------------------------------------------------\")\n",
    "    \n",
    "    \n",
    "    # Evaluaction de la precision del modelo\n",
    "    score = model.score(X_test, y_test)\n",
    "    print(\"Score de precision: \", score)\n",
    "    print(\"--------------------------------------------------\")\n",
    "    \n",
    "    # Reporte de clasificacion\n",
    "    print(classification_report(y_test, y_pred))"
   ]
  },
  {
   "cell_type": "code",
   "execution_count": 7,
   "id": "cca77ad2-e6b8-4835-9b31-244c4af56dcf",
   "metadata": {},
   "outputs": [
    {
     "name": "stdout",
     "output_type": "stream",
     "text": [
      "Solver =  sag\n",
      "\n",
      "Intercepto (Beta 0) [-0.31429974]\n",
      "\n",
      "Pesos (Betas) [[-0.03727263 -0.16208509  1.02539122  0.19887702  0.16037391]]\n",
      "--------------------------------------------------\n",
      "Score de precision:  0.9\n",
      "--------------------------------------------------\n",
      "              precision    recall  f1-score   support\n",
      "\n",
      "           0       1.00      0.60      0.75        10\n",
      "           1       0.88      1.00      0.94        30\n",
      "\n",
      "    accuracy                           0.90        40\n",
      "   macro avg       0.94      0.80      0.84        40\n",
      "weighted avg       0.91      0.90      0.89        40\n",
      "\n"
     ]
    }
   ],
   "source": [
    "model_optimizer(\"sag\")"
   ]
  },
  {
   "cell_type": "code",
   "execution_count": 8,
   "id": "95c3d22b-9796-4563-9f2b-15ed2faafec6",
   "metadata": {},
   "outputs": [
    {
     "name": "stdout",
     "output_type": "stream",
     "text": [
      "Solver =  newton-cg\n",
      "\n",
      "Intercepto (Beta 0) [-11.15241978]\n",
      "\n",
      "Pesos (Betas) [[0.00660784 0.14830208 3.33608807 2.07244305 0.63787222]]\n",
      "--------------------------------------------------\n",
      "Score de precision:  0.975\n",
      "--------------------------------------------------\n",
      "              precision    recall  f1-score   support\n",
      "\n",
      "           0       1.00      0.90      0.95        10\n",
      "           1       0.97      1.00      0.98        30\n",
      "\n",
      "    accuracy                           0.97        40\n",
      "   macro avg       0.98      0.95      0.97        40\n",
      "weighted avg       0.98      0.97      0.97        40\n",
      "\n"
     ]
    }
   ],
   "source": [
    "model_optimizer(\"newton-cg\")"
   ]
  },
  {
   "cell_type": "code",
   "execution_count": 9,
   "id": "8775c7c2-8e72-4e63-8e6c-3832803e1153",
   "metadata": {},
   "outputs": [
    {
     "name": "stdout",
     "output_type": "stream",
     "text": [
      "Solver =  liblinear\n",
      "\n",
      "Intercepto (Beta 0) [-3.34051275]\n",
      "\n",
      "Pesos (Betas) [[-0.02834219 -0.26053256  2.06969328  1.09570978  0.27510142]]\n",
      "--------------------------------------------------\n",
      "Score de precision:  0.975\n",
      "--------------------------------------------------\n",
      "              precision    recall  f1-score   support\n",
      "\n",
      "           0       1.00      0.90      0.95        10\n",
      "           1       0.97      1.00      0.98        30\n",
      "\n",
      "    accuracy                           0.97        40\n",
      "   macro avg       0.98      0.95      0.97        40\n",
      "weighted avg       0.98      0.97      0.97        40\n",
      "\n"
     ]
    }
   ],
   "source": [
    "model_optimizer(\"liblinear\")"
   ]
  },
  {
   "cell_type": "code",
   "execution_count": 10,
   "id": "d7eda127-2c36-4429-8e99-a21fc4d38bd4",
   "metadata": {},
   "outputs": [
    {
     "name": "stdout",
     "output_type": "stream",
     "text": [
      "Solver =  saga\n",
      "\n",
      "Intercepto (Beta 0) [-0.14376954]\n",
      "\n",
      "Pesos (Betas) [[-0.0336577  -0.09227979  0.66018572  0.10452648  0.15450633]]\n",
      "--------------------------------------------------\n",
      "Score de precision:  0.875\n",
      "--------------------------------------------------\n",
      "              precision    recall  f1-score   support\n",
      "\n",
      "           0       0.86      0.60      0.71        10\n",
      "           1       0.88      0.97      0.92        30\n",
      "\n",
      "    accuracy                           0.88        40\n",
      "   macro avg       0.87      0.78      0.81        40\n",
      "weighted avg       0.87      0.88      0.87        40\n",
      "\n"
     ]
    }
   ],
   "source": [
    "model_optimizer(\"saga\")"
   ]
  },
  {
   "cell_type": "code",
   "execution_count": 11,
   "id": "8f6c00d0-326e-4611-80b5-e03978365f74",
   "metadata": {},
   "outputs": [
    {
     "name": "stdout",
     "output_type": "stream",
     "text": [
      "Solver =  lbfgs\n",
      "\n",
      "Intercepto (Beta 0) [-11.16791614]\n",
      "\n",
      "Pesos (Betas) [[0.00667297 0.14894912 3.33863745 2.07461152 0.63862512]]\n",
      "--------------------------------------------------\n",
      "Score de precision:  0.975\n",
      "--------------------------------------------------\n",
      "              precision    recall  f1-score   support\n",
      "\n",
      "           0       1.00      0.90      0.95        10\n",
      "           1       0.97      1.00      0.98        30\n",
      "\n",
      "    accuracy                           0.97        40\n",
      "   macro avg       0.98      0.95      0.97        40\n",
      "weighted avg       0.98      0.97      0.97        40\n",
      "\n"
     ]
    }
   ],
   "source": [
    "model_optimizer(\"lbfgs\")"
   ]
  },
  {
   "cell_type": "markdown",
   "id": "b1fb012e-8c5a-4f8a-be28-068b98eef761",
   "metadata": {},
   "source": [
    "### Conclusiones\n",
    "Los algoritmos newton-cg, liblinear y lbfgs son igualmente efectivos. <br>\n",
    "\n",
    "### Validación\n",
    "Explique a detalle comentando sobre los indicadores obtenidos mediante el reporte de clasificación correspondiente y la curva ROC."
   ]
  },
  {
   "cell_type": "code",
   "execution_count": 12,
   "id": "91118437-f9af-468c-8a1e-57b68ce2089c",
   "metadata": {},
   "outputs": [
    {
     "data": {
      "text/plain": [
       "array([0.9898257 , 0.99974436, 0.99355295, 0.67717001, 0.99999695])"
      ]
     },
     "execution_count": 12,
     "metadata": {},
     "output_type": "execute_result"
    }
   ],
   "source": [
    "# Prediccion de probabilidades para casos particulares\n",
    "model = LogisticRegression(solver=\"lbfgs\")\n",
    "clf = model.fit(X_train, y_train)\n",
    "y_pred_probs = clf.predict_proba(X_test)[:,1]\n",
    "y_pred_probs[0:5]"
   ]
  },
  {
   "cell_type": "code",
   "execution_count": 13,
   "id": "e982167c-d1e1-455e-8fbf-4d3366108efa",
   "metadata": {},
   "outputs": [
    {
     "data": {
      "text/plain": [
       "array([1., 1., 1., 1., 1.])"
      ]
     },
     "execution_count": 13,
     "metadata": {},
     "output_type": "execute_result"
    }
   ],
   "source": [
    "y_pred_probs = np.round(y_pred_probs,0)\n",
    "y_pred_probs[0:5]"
   ]
  },
  {
   "cell_type": "code",
   "execution_count": 14,
   "id": "e61d7711-f1c5-4cfc-b6d4-d9bd25592ba1",
   "metadata": {},
   "outputs": [],
   "source": [
    "# Graficacion de la curva ROC y calculo del area bajo ella\n",
    "from sklearn.metrics import roc_curve\n",
    "from sklearn.metrics import roc_auc_score\n",
    "\n",
    "# fpr = false positive rate (tasa de falsos positivos)\n",
    "# tpr = true positive rate (tasa de verdaderos positivos)\n",
    "# thresholds = limites para valores de p\n",
    "fpr, tpr, thresholds = roc_curve(y_test, y_pred_probs)\n",
    "auc = roc_auc_score(y_test, y_pred_probs)"
   ]
  },
  {
   "cell_type": "code",
   "execution_count": 15,
   "id": "f05eb5e4-7c85-4226-805c-303b5d12f806",
   "metadata": {},
   "outputs": [
    {
     "data": {
      "text/plain": [
       "Text(0.5, 1.0, 'Curva ROC para Regresion Logistica')"
      ]
     },
     "execution_count": 15,
     "metadata": {},
     "output_type": "execute_result"
    },
    {
     "data": {
      "image/png": "[encoded data removed]",
      "text/plain": [
       "<Figure size 640x480 with 1 Axes>"
      ]
     },
     "metadata": {},
     "output_type": "display_data"
    }
   ],
   "source": [
    "plt.plot([0,1], [0,1], 'k--')\n",
    "plt.plot(fpr, tpr, marker=\".\", label=\"Curva ROC (area = %0.2f)\" % auc)\n",
    "plt.xlabel(\"Tasa de Falsos Positivos\") # False positive rate\n",
    "plt.ylabel(\"Tasa de Verdaderos Positivos\") # True positive rate\n",
    "plt.legend(loc = \"lower right\")\n",
    "plt.title(\"Curva ROC para Regresion Logistica\")"
   ]
  }
 ],
 "metadata": {
  "kernelspec": {
   "display_name": "Python 3 (ipykernel)",
   "language": "python",
   "name": "python3"
  },
  "language_info": {
   "codemirror_mode": {
    "name": "ipython",
    "version": 3
   },
   "file_extension": ".py",
   "mimetype": "text/x-python",
   "name": "python",
   "nbconvert_exporter": "python",
   "pygments_lexer": "ipython3",
   "version": "3.12.1"
  }
 },
 "nbformat": 4,
 "nbformat_minor": 5
}
